{
  "nbformat": 4,
  "nbformat_minor": 0,
  "metadata": {
    "colab": {
      "provenance": [],
      "collapsed_sections": []
    },
    "kernelspec": {
      "name": "python3",
      "display_name": "Python 3"
    },
    "language_info": {
      "name": "python"
    }
  },
  "cells": [
    {
      "cell_type": "markdown",
      "source": [
        "Q1. Find out all the types of error that we have encountered in our lecture and why? Also include the examples.\n",
        "\n",
        "Ans:\n",
        "\n",
        "Name Error:\n",
        "\n",
        "Example: Print(\"farooq\")\n",
        "Reason: Print is not defined in python. It should be in lowercase.\n",
        "Syntax Error:\n",
        "\n",
        "Example: print \"farooq\"\n",
        "\n",
        "Reason: Missing parentheses in call to 'print'.\n",
        "\n",
        "Example: a* = 10\n",
        "\n",
        "Reason: Invalid syntax. Vaiable name should not contain special characters.\n",
        "\n",
        "Type Error:\n",
        "\n",
        "Example: \"farooq\" + 2\n",
        "\n",
        "Reason: Cannot concatenate string and integer.\n",
        "\n",
        "Example: 19 + \"19\"\n",
        "\n",
        "Reason: unsupported operand type(s) for +: 'int' and 'str'. Cannot add integer and string.\n",
        "\n",
        "Value Error:\n",
        "\n",
        "Example: A = int(input(\"Enter value of A: \"))\n",
        "\n",
        "Reason: invalid literal for int() with base 10: '10.2'. Only integer value is allowed to input."
      ],
      "metadata": {
        "id": "WGeOCeu-j7uK"
      }
    },
    {
      "cell_type": "markdown",
      "source": [
        "Q2. Take input A and B and print their sum, mul, div, square of the numbers."
      ],
      "metadata": {
        "id": "5v-JjCADkAHK"
      }
    },
    {
      "cell_type": "code",
      "source": [
        "# Read the value of a & b\n",
        "a = int(input(\"Enter the value of a: \"))\n",
        "b = int(input(\"Enter the value of b: \"))\n",
        "\n",
        "print(f\"Addition of {a} & {b} is {a + b}\")\n",
        "print(f\"Multiplication of {a} & {b} is {a * b}\")\n",
        "print(f\"Division of {a} & {b} is {a / b}\")\n",
        "print(f\"Square of {a} is {a**2} & {b} is {b**2}\")"
      ],
      "metadata": {
        "colab": {
          "base_uri": "https://localhost:8080/"
        },
        "id": "XflnTjv9mMcx",
        "outputId": "9fd367dd-2703-47f5-af1b-92989897b6ba"
      },
      "execution_count": 1,
      "outputs": [
        {
          "output_type": "stream",
          "name": "stdout",
          "text": [
            "Enter the value of a: 5\n",
            "Enter the value of b: 10\n",
            "Addition of 5 & 10 is 15\n",
            "Multiplication of 5 & 10 is 50\n",
            "Division of 5 & 10 is 0.5\n",
            "Square of 5 is 25 & 10 is 100\n"
          ]
        }
      ]
    },
    {
      "cell_type": "markdown",
      "source": [
        "Q3. How many reserve keywords are there in python and why we should not use them as a variable name.\n",
        "\n",
        "Ans:\n",
        "\n",
        "There are 31 reserve keywords in python.\n",
        "\n",
        "We should not use reserve keywords as variable name because as they have predefined meaning.\n",
        "\n",
        "Example: if, elif, else --> These keyword are used for condition checking."
      ],
      "metadata": {
        "id": "hv_5UnbTmtZA"
      }
    },
    {
      "cell_type": "markdown",
      "source": [
        "Q4. Create email ids with the user inputs. in the following format - lastname.firstname@gmail.com"
      ],
      "metadata": {
        "id": "uYpDWoiOm1P9"
      }
    },
    {
      "cell_type": "code",
      "source": [
        "fname = input(\"Enter first name: \")\n",
        "lname = input(\"Enter last name: \")\n",
        "age = int(input(\"Enter age: \")) \n",
        "domain = \"@gmail.com\"\n",
        "email_ID = (f\"{lname}.{fname}{domain}\")\n",
        "\n",
        "print(f\"\"\"\\nName: {fname} {lname}\n",
        "Age: {age}\n",
        "Email ID: {email_ID}\"\"\")"
      ],
      "metadata": {
        "colab": {
          "base_uri": "https://localhost:8080/"
        },
        "id": "P0XI10nNm4qd",
        "outputId": "57a2a7e4-d90b-43fb-80b1-42afcd9b737d"
      },
      "execution_count": 2,
      "outputs": [
        {
          "output_type": "stream",
          "name": "stdout",
          "text": [
            "Enter first name: farooq\n",
            "Enter last name: mohammed\n",
            "Enter age: 25\n",
            "\n",
            "Name: farooq mohammed\n",
            "Age: 25\n",
            "Email ID: mohammed.farooq@gmail.com\n"
          ]
        }
      ]
    },
    {
      "cell_type": "markdown",
      "source": [
        "Q5. Try to print the following lines -\n",
        "\n",
        "* Hi I'm farooq\n",
        "* My address is 22\\3\n",
        "* I earn 20$ daily."
      ],
      "metadata": {
        "id": "CilygDhynJHE"
      }
    },
    {
      "cell_type": "code",
      "source": [
        "print(\"\"\"Hi! I'm farooq.\n",
        "My address is 22\\3.\n",
        "I earn 20$ daily.\"\"\")"
      ],
      "metadata": {
        "colab": {
          "base_uri": "https://localhost:8080/"
        },
        "id": "DPv5onVPnWGj",
        "outputId": "b98beb9a-e402-4700-dfec-243c5db9b07e"
      },
      "execution_count": 3,
      "outputs": [
        {
          "output_type": "stream",
          "name": "stdout",
          "text": [
            "Hi! I'm farooq.\n",
            "My address is 22\u0003.\n",
            "I earn 20$ daily.\n"
          ]
        }
      ]
    },
    {
      "cell_type": "markdown",
      "source": [
        "Q6. Take user input (name, address, date of birth etc) to fill a form for your college and print their email IDs"
      ],
      "metadata": {
        "id": "Dr7Bci5Rndtl"
      }
    },
    {
      "cell_type": "code",
      "source": [
        "fname = input(\"Enter first name: \")\n",
        "lname = input(\"Enter last name: \")\n",
        "dob = (input(\"Enter Date of Birth (dd/mm/yyyy): \")) \n",
        "domain = \"@metics.edu\"\n",
        "email_ID = (f\"{lname}.{fname}{domain}\")\n",
        "address = input(\"Enter address: \")\n",
        "\n",
        "print(f\"\"\"\n",
        "\n",
        "Name: {fname} {lname}\n",
        "Date of Birth: {dob}\n",
        "Email ID: {email_ID}\n",
        "Address: {address}\"\"\")"
      ],
      "metadata": {
        "colab": {
          "base_uri": "https://localhost:8080/"
        },
        "id": "MHkdnMiEne18",
        "outputId": "7fbcc4d0-a244-4c63-913a-2e7b2512a94b"
      },
      "execution_count": 4,
      "outputs": [
        {
          "output_type": "stream",
          "name": "stdout",
          "text": [
            "Enter first name: farooq\n",
            "Enter last name: mohammed\n",
            "Enter Date of Birth (dd/mm/yyyy): 06/07/1995\n",
            "Enter address: 22/7\n",
            "\n",
            "\n",
            "Name: farooq mohammed\n",
            "Date of Birth: 06/07/1995\n",
            "Email ID: mohammed.farooq@metics.edu\n",
            "Address: 22/7\n"
          ]
        }
      ]
    },
    {
      "cell_type": "markdown",
      "source": [
        "Q7. Convert the following -\n",
        "\n",
        "* \"22.4\" into integer\n",
        "* \"22\" into complex no."
      ],
      "metadata": {
        "id": "bs3ZvUSEnt0l"
      }
    },
    {
      "cell_type": "code",
      "source": [
        "#String to integer\n",
        "\n",
        "a = \"22.4\"\n",
        "print(f\"Type of a: {type(a)}\\nValue of a: {a}\")\n",
        "a = float(a)\n",
        "print(f\"\\nType of a: {type(a)}\\nValue of a: {a}\")\n",
        "a = int(a)\n",
        "print(f\"\\nType of a: {type(a)}\\nVale of a: {a}\")\n",
        "\n",
        "print(\"------------------------------------------\")\n",
        "#String to complex number\n",
        "\n",
        "b = \"22\"\n",
        "print(f\"\\nType of a: {type(b)}\\nVale of a: {b}\")\n",
        "b = int(b)\n",
        "print(f\"\\nType of a: {type(b)}\\nVale of a: {b}\")\n",
        "b = complex(0,b)\n",
        "print(f\"\\nType of b: {type(b)}\\nValue of b: {b}\")"
      ],
      "metadata": {
        "colab": {
          "base_uri": "https://localhost:8080/"
        },
        "id": "YOd8_8nRnymI",
        "outputId": "83215634-f455-4abe-f741-ec9caf4ed08f"
      },
      "execution_count": 5,
      "outputs": [
        {
          "output_type": "stream",
          "name": "stdout",
          "text": [
            "Type of a: <class 'str'>\n",
            "Value of a: 22.4\n",
            "\n",
            "Type of a: <class 'float'>\n",
            "Value of a: 22.4\n",
            "\n",
            "Type of a: <class 'int'>\n",
            "Vale of a: 22\n",
            "------------------------------------------\n",
            "\n",
            "Type of a: <class 'str'>\n",
            "Vale of a: 22\n",
            "\n",
            "Type of a: <class 'int'>\n",
            "Vale of a: 22\n",
            "\n",
            "Type of b: <class 'complex'>\n",
            "Value of b: 22j\n"
          ]
        }
      ]
    }
  ]
}